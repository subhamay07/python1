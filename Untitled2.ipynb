{
 "cells": [
  {
   "cell_type": "code",
   "execution_count": 1,
   "id": "c51356f6",
   "metadata": {},
   "outputs": [],
   "source": [
    "import numpy as np"
   ]
  },
  {
   "cell_type": "code",
   "execution_count": 2,
   "id": "b52c367d",
   "metadata": {},
   "outputs": [],
   "source": [
    "import pandas as pd"
   ]
  },
  {
   "cell_type": "code",
   "execution_count": 3,
   "id": "0c4a7c5e",
   "metadata": {},
   "outputs": [],
   "source": [
    "from random import randint"
   ]
  },
  {
   "cell_type": "code",
   "execution_count": 4,
   "id": "85e36772",
   "metadata": {},
   "outputs": [],
   "source": [
    "def reg_fun(x):\n",
    "    return 7*x-3"
   ]
  },
  {
   "cell_type": "code",
   "execution_count": 7,
   "id": "18e77d1f",
   "metadata": {},
   "outputs": [
    {
     "name": "stdout",
     "output_type": "stream",
     "text": [
      "20 137\n",
      "8 53\n",
      "4 25\n",
      "15 102\n",
      "0 -3\n"
     ]
    }
   ],
   "source": [
    "x=[]\n",
    "y=[]\n",
    "for i in range(5):\n",
    "    t=randint(0,20)\n",
    "    print(t,reg_fun(t))\n",
    "    x.append(t)\n",
    "    y.append(reg_fun(t)+randint(-10,10))"
   ]
  },
  {
   "cell_type": "code",
   "execution_count": 8,
   "id": "2aa78326",
   "metadata": {},
   "outputs": [],
   "source": [
    "from matplotlib import pyplot as plt"
   ]
  },
  {
   "cell_type": "code",
   "execution_count": 9,
   "id": "f16ed1c2",
   "metadata": {},
   "outputs": [],
   "source": [
    "%matplotlib inline"
   ]
  },
  {
   "cell_type": "code",
   "execution_count": 15,
   "id": "6bf0d044",
   "metadata": {},
   "outputs": [
    {
     "data": {
      "image/png": "[encoded data removed]",
      "text/plain": [
       "<Figure size 432x288 with 1 Axes>"
      ]
     },
     "metadata": {
      "needs_background": "light"
     },
     "output_type": "display_data"
    }
   ],
   "source": [
    "# plt.plot(x,[reg_fun(i)for i in x],color=\"green\",label=\"Time Distribution\")\n",
    "# plt.scatter(x,y,color=\"blue\",label=\"Target\")\n",
    "# plt.legend()\n",
    "# plt.show()\n",
    "plt.plot(x,[reg_fun(i)for i in x],color='green',label='Tree Description')\n",
    "plt.scatter(x,y,color='blue',label='Traget')\n",
    "plt.legend()\n",
    "plt.show()"
   ]
  },
  {
   "cell_type": "code",
   "execution_count": null,
   "id": "f2ad4008",
   "metadata": {},
   "outputs": [],
   "source": []
  }
 ],
 "metadata": {
  "kernelspec": {
   "display_name": "Python 3 (ipykernel)",
   "language": "python",
   "name": "python3"
  },
  "language_info": {
   "codemirror_mode": {
    "name": "ipython",
    "version": 3
   },
   "file_extension": ".py",
   "mimetype": "text/x-python",
   "name": "python",
   "nbconvert_exporter": "python",
   "pygments_lexer": "ipython3",
   "version": "3.9.12"
  }
 },
 "nbformat": 4,
 "nbformat_minor": 5
}
